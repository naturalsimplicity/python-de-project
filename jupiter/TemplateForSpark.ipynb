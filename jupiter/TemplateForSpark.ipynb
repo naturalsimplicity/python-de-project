{
 "cells": [
  {
   "cell_type": "code",
   "execution_count": 1,
   "id": "c8f1e460-1dcf-48a9-b1eb-1c8ae9572621",
   "metadata": {},
   "outputs": [],
   "source": [
    "from pyspark.sql import SparkSession\n",
    "import pyspark.sql.functions as f\n",
    "import os"
   ]
  },
  {
   "cell_type": "code",
   "execution_count": 2,
   "id": "dce71edb-1072-4915-9161-fc30c5d64ecb",
   "metadata": {},
   "outputs": [],
   "source": [
    "os.environ['PYSPARK_SUBMIT_ARGS'] = '--packages org.apache.spark:spark-streaming-kafka-0-10_2.12:3.2.0,org.apache.spark:spark-sql-kafka-0-10_2.12:3.2.0,com.mysql:mysql-connector-j:9.1.0 pyspark-shell'\n"
   ]
  },
  {
   "cell_type": "code",
   "execution_count": 3,
   "id": "a55ebb04-86b6-4b8e-9589-7de2264dcb9d",
   "metadata": {
    "collapsed": true,
    "jupyter": {
     "outputs_hidden": true
    },
    "scrolled": true
   },
   "outputs": [
    {
     "name": "stdout",
     "output_type": "stream",
     "text": [
      ":: loading settings :: url = jar:file:/opt/conda/lib/python3.12/site-packages/pyspark/jars/ivy-2.5.1.jar!/org/apache/ivy/core/settings/ivysettings.xml\n"
     ]
    },
    {
     "name": "stderr",
     "output_type": "stream",
     "text": [
      "Ivy Default Cache set to: /home/jovyan/.ivy2/cache\n",
      "The jars for the packages stored in: /home/jovyan/.ivy2/jars\n",
      "org.apache.spark#spark-streaming-kafka-0-10_2.12 added as a dependency\n",
      "org.apache.spark#spark-sql-kafka-0-10_2.12 added as a dependency\n",
      "com.mysql#mysql-connector-j added as a dependency\n",
      ":: resolving dependencies :: org.apache.spark#spark-submit-parent-d94f9ea2-30db-4d89-b683-eab997712482;1.0\n",
      "\tconfs: [default]\n",
      "\tfound org.apache.spark#spark-streaming-kafka-0-10_2.12;3.2.0 in central\n",
      "\tfound org.apache.spark#spark-token-provider-kafka-0-10_2.12;3.2.0 in central\n",
      "\tfound org.apache.kafka#kafka-clients;2.8.0 in central\n",
      "\tfound org.lz4#lz4-java;1.7.1 in central\n",
      "\tfound org.xerial.snappy#snappy-java;1.1.8.4 in central\n",
      "\tfound org.slf4j#slf4j-api;1.7.30 in central\n",
      "\tfound org.apache.hadoop#hadoop-client-runtime;3.3.1 in central\n",
      "\tfound org.spark-project.spark#unused;1.0.0 in central\n",
      "\tfound org.apache.hadoop#hadoop-client-api;3.3.1 in central\n",
      "\tfound org.apache.htrace#htrace-core4;4.1.0-incubating in central\n",
      "\tfound commons-logging#commons-logging;1.1.3 in central\n",
      "\tfound com.google.code.findbugs#jsr305;3.0.0 in central\n",
      "\tfound org.apache.spark#spark-sql-kafka-0-10_2.12;3.2.0 in central\n",
      "\tfound org.apache.commons#commons-pool2;2.6.2 in central\n",
      "\tfound com.mysql#mysql-connector-j;9.1.0 in central\n",
      "\tfound com.google.protobuf#protobuf-java;4.26.1 in central\n",
      "downloading https://repo1.maven.org/maven2/org/apache/spark/spark-streaming-kafka-0-10_2.12/3.2.0/spark-streaming-kafka-0-10_2.12-3.2.0.jar ...\n",
      "\t[SUCCESSFUL ] org.apache.spark#spark-streaming-kafka-0-10_2.12;3.2.0!spark-streaming-kafka-0-10_2.12.jar (497ms)\n",
      "downloading https://repo1.maven.org/maven2/org/apache/spark/spark-sql-kafka-0-10_2.12/3.2.0/spark-sql-kafka-0-10_2.12-3.2.0.jar ...\n",
      "\t[SUCCESSFUL ] org.apache.spark#spark-sql-kafka-0-10_2.12;3.2.0!spark-sql-kafka-0-10_2.12.jar (1157ms)\n",
      "downloading https://repo1.maven.org/maven2/com/mysql/mysql-connector-j/9.1.0/mysql-connector-j-9.1.0.jar ...\n",
      "\t[SUCCESSFUL ] com.mysql#mysql-connector-j;9.1.0!mysql-connector-j.jar (9178ms)\n",
      "downloading https://repo1.maven.org/maven2/org/apache/spark/spark-token-provider-kafka-0-10_2.12/3.2.0/spark-token-provider-kafka-0-10_2.12-3.2.0.jar ...\n",
      "\t[SUCCESSFUL ] org.apache.spark#spark-token-provider-kafka-0-10_2.12;3.2.0!spark-token-provider-kafka-0-10_2.12.jar (249ms)\n",
      "downloading https://repo1.maven.org/maven2/org/apache/kafka/kafka-clients/2.8.0/kafka-clients-2.8.0.jar ...\n",
      "\t[SUCCESSFUL ] org.apache.kafka#kafka-clients;2.8.0!kafka-clients.jar (13605ms)\n",
      "downloading https://repo1.maven.org/maven2/org/spark-project/spark/unused/1.0.0/unused-1.0.0.jar ...\n",
      "\t[SUCCESSFUL ] org.spark-project.spark#unused;1.0.0!unused.jar (692ms)\n",
      "downloading https://repo1.maven.org/maven2/org/apache/hadoop/hadoop-client-runtime/3.3.1/hadoop-client-runtime-3.3.1.jar ...\n",
      "\t[SUCCESSFUL ] org.apache.hadoop#hadoop-client-runtime;3.3.1!hadoop-client-runtime.jar (94209ms)\n",
      "downloading https://repo1.maven.org/maven2/org/lz4/lz4-java/1.7.1/lz4-java-1.7.1.jar ...\n",
      "\t[SUCCESSFUL ] org.lz4#lz4-java;1.7.1!lz4-java.jar (2308ms)\n",
      "downloading https://repo1.maven.org/maven2/org/xerial/snappy/snappy-java/1.1.8.4/snappy-java-1.1.8.4.jar ...\n",
      "\t[SUCCESSFUL ] org.xerial.snappy#snappy-java;1.1.8.4!snappy-java.jar(bundle) (6143ms)\n",
      "downloading https://repo1.maven.org/maven2/org/slf4j/slf4j-api/1.7.30/slf4j-api-1.7.30.jar ...\n",
      "\t[SUCCESSFUL ] org.slf4j#slf4j-api;1.7.30!slf4j-api.jar (275ms)\n",
      "downloading https://repo1.maven.org/maven2/org/apache/hadoop/hadoop-client-api/3.3.1/hadoop-client-api-3.3.1.jar ...\n",
      "\t[SUCCESSFUL ] org.apache.hadoop#hadoop-client-api;3.3.1!hadoop-client-api.jar (56514ms)\n",
      "downloading https://repo1.maven.org/maven2/org/apache/htrace/htrace-core4/4.1.0-incubating/htrace-core4-4.1.0-incubating.jar ...\n",
      "\t[SUCCESSFUL ] org.apache.htrace#htrace-core4;4.1.0-incubating!htrace-core4.jar (5052ms)\n",
      "downloading https://repo1.maven.org/maven2/commons-logging/commons-logging/1.1.3/commons-logging-1.1.3.jar ...\n",
      "\t[SUCCESSFUL ] commons-logging#commons-logging;1.1.3!commons-logging.jar (233ms)\n",
      "downloading https://repo1.maven.org/maven2/com/google/code/findbugs/jsr305/3.0.0/jsr305-3.0.0.jar ...\n",
      "\t[SUCCESSFUL ] com.google.code.findbugs#jsr305;3.0.0!jsr305.jar (159ms)\n",
      "downloading https://repo1.maven.org/maven2/org/apache/commons/commons-pool2/2.6.2/commons-pool2-2.6.2.jar ...\n",
      "\t[SUCCESSFUL ] org.apache.commons#commons-pool2;2.6.2!commons-pool2.jar (355ms)\n",
      "downloading https://repo1.maven.org/maven2/com/google/protobuf/protobuf-java/4.26.1/protobuf-java-4.26.1.jar ...\n",
      "\t[SUCCESSFUL ] com.google.protobuf#protobuf-java;4.26.1!protobuf-java.jar (5433ms)\n",
      ":: resolution report :: resolve 50052ms :: artifacts dl 196753ms\n",
      "\t:: modules in use:\n",
      "\tcom.google.code.findbugs#jsr305;3.0.0 from central in [default]\n",
      "\tcom.google.protobuf#protobuf-java;4.26.1 from central in [default]\n",
      "\tcom.mysql#mysql-connector-j;9.1.0 from central in [default]\n",
      "\tcommons-logging#commons-logging;1.1.3 from central in [default]\n",
      "\torg.apache.commons#commons-pool2;2.6.2 from central in [default]\n",
      "\torg.apache.hadoop#hadoop-client-api;3.3.1 from central in [default]\n",
      "\torg.apache.hadoop#hadoop-client-runtime;3.3.1 from central in [default]\n",
      "\torg.apache.htrace#htrace-core4;4.1.0-incubating from central in [default]\n",
      "\torg.apache.kafka#kafka-clients;2.8.0 from central in [default]\n",
      "\torg.apache.spark#spark-sql-kafka-0-10_2.12;3.2.0 from central in [default]\n",
      "\torg.apache.spark#spark-streaming-kafka-0-10_2.12;3.2.0 from central in [default]\n",
      "\torg.apache.spark#spark-token-provider-kafka-0-10_2.12;3.2.0 from central in [default]\n",
      "\torg.lz4#lz4-java;1.7.1 from central in [default]\n",
      "\torg.slf4j#slf4j-api;1.7.30 from central in [default]\n",
      "\torg.spark-project.spark#unused;1.0.0 from central in [default]\n",
      "\torg.xerial.snappy#snappy-java;1.1.8.4 from central in [default]\n",
      "\t---------------------------------------------------------------------\n",
      "\t|                  |            modules            ||   artifacts   |\n",
      "\t|       conf       | number| search|dwnlded|evicted|| number|dwnlded|\n",
      "\t---------------------------------------------------------------------\n",
      "\t|      default     |   16  |   16  |   16  |   0   ||   16  |   16  |\n",
      "\t---------------------------------------------------------------------\n",
      ":: retrieving :: org.apache.spark#spark-submit-parent-d94f9ea2-30db-4d89-b683-eab997712482\n",
      "\tconfs: [default]\n",
      "\t16 artifacts copied, 0 already retrieved (63606kB/202ms)\n",
      "25/01/04 20:46:32 WARN NativeCodeLoader: Unable to load native-hadoop library for your platform... using builtin-java classes where applicable\n",
      "Setting default log level to \"WARN\".\n",
      "To adjust logging level use sc.setLogLevel(newLevel). For SparkR, use setLogLevel(newLevel).\n"
     ]
    }
   ],
   "source": [
    "session = SparkSession \\\n",
    "    .builder \\\n",
    "    .appName('SparkDatamarts') \\\n",
    "    .master(\"spark://spark-master:7077\") \\\n",
    "    .getOrCreate()"
   ]
  },
  {
   "cell_type": "code",
   "execution_count": 48,
   "id": "6820e9a2-dded-4938-98a2-7e06e117deb9",
   "metadata": {},
   "outputs": [],
   "source": [
    "users = session.read \\\n",
    "    .format(\"jdbc\") \\\n",
    "    .option(\"url\", \"jdbc:mysql://mysql:3306/mysql_db\") \\\n",
    "    .option(\"driver\", \"com.mysql.cj.jdbc.Driver\") \\\n",
    "    .option(\"dbtable\", \"users\") \\\n",
    "    .option(\"user\", \"mysql_user\") \\\n",
    "    .option(\"password\", \"mysql_password\") \\\n",
    "    .load() \\\n",
    "    .alias(\"users\")"
   ]
  },
  {
   "cell_type": "code",
   "execution_count": 49,
   "id": "c3bf31eb-6ca9-43b8-bc89-cae09b6fe5fb",
   "metadata": {},
   "outputs": [],
   "source": [
    "products = session.read \\\n",
    "    .format(\"jdbc\") \\\n",
    "    .option(\"url\", \"jdbc:mysql://mysql:3306/mysql_db\") \\\n",
    "    .option(\"driver\", \"com.mysql.cj.jdbc.Driver\") \\\n",
    "    .option(\"dbtable\", \"products\") \\\n",
    "    .option(\"user\", \"mysql_user\") \\\n",
    "    .option(\"password\", \"mysql_password\") \\\n",
    "    .load() \\\n",
    "    .alias(\"products\")"
   ]
  },
  {
   "cell_type": "code",
   "execution_count": 50,
   "id": "9adbb984-9045-437e-9dbc-a4dab2ace131",
   "metadata": {},
   "outputs": [],
   "source": [
    "product_categories = session.read \\\n",
    "    .format(\"jdbc\") \\\n",
    "    .option(\"url\", \"jdbc:mysql://mysql:3306/mysql_db\") \\\n",
    "    .option(\"driver\", \"com.mysql.cj.jdbc.Driver\") \\\n",
    "    .option(\"dbtable\", \"product_categories\") \\\n",
    "    .option(\"user\", \"mysql_user\") \\\n",
    "    .option(\"password\", \"mysql_password\") \\\n",
    "    .load() \\\n",
    "    .alias(\"product_categories\")"
   ]
  },
  {
   "cell_type": "code",
   "execution_count": 44,
   "id": "06be9309-b71e-4a47-864e-3f36f9a301b1",
   "metadata": {},
   "outputs": [],
   "source": [
    "orders = session.read \\\n",
    "    .format(\"jdbc\") \\\n",
    "    .option(\"url\", \"jdbc:mysql://mysql:3306/mysql_db\") \\\n",
    "    .option(\"driver\", \"com.mysql.cj.jdbc.Driver\") \\\n",
    "    .option(\"dbtable\", \"orders\") \\\n",
    "    .option(\"user\", \"mysql_user\") \\\n",
    "    .option(\"password\", \"mysql_password\") \\\n",
    "    .load() \\\n",
    "    .alias(\"orders\")"
   ]
  },
  {
   "cell_type": "code",
   "execution_count": 45,
   "id": "093d36fc-a65c-498f-8cda-bdc40ca7c95f",
   "metadata": {},
   "outputs": [],
   "source": [
    "order_details = session.read \\\n",
    "    .format(\"jdbc\") \\\n",
    "    .option(\"url\", \"jdbc:mysql://mysql:3306/mysql_db\") \\\n",
    "    .option(\"driver\", \"com.mysql.cj.jdbc.Driver\") \\\n",
    "    .option(\"dbtable\", \"order_details\") \\\n",
    "    .option(\"user\", \"mysql_user\") \\\n",
    "    .option(\"password\", \"mysql_password\") \\\n",
    "    .load() \\\n",
    "    .alias(\"order_details\")"
   ]
  },
  {
   "cell_type": "code",
   "execution_count": 35,
   "id": "e91eb69a-4990-479f-ae2e-228eebea8d89",
   "metadata": {},
   "outputs": [],
   "source": [
    "user_sales = orders \\\n",
    "    .join(users, orders.user_id == users.user_id, \"inner\") \\\n",
    "    .withColumn(\"order_month\", f.date_trunc(\"MM\", orders.order_date)) \\\n",
    "    .withColumn(\"delivery_period\", f.date_diff(\"delivery_date\", \"order_date\")) \\\n",
    "    .select([\"order_month\", \"order_id\", orders.user_id, \"loyalty_status\", \"total_amount\",\n",
    "             \"status\", \"delivery_period\"]) \\\n",
    "    .groupBy(['order_month', 'loyalty_status']) \\\n",
    "    .agg(f.count(\"order_id\").alias(\"orders_cnt\"),\n",
    "         f.count(f.when(f.col(\"status\") == \"Paid\", f.col(\"order_id\"))).alias(\"paid_orders\"),\n",
    "         f.count(f.when(f.col(\"status\") == \"Completed\", f.col(\"order_id\"))).alias(\"completed_orders\"),\n",
    "         f.count(f.when(f.col(\"status\") == \"Pending\", f.col(\"order_id\"))).alias(\"pending_orders\"),\n",
    "         f.count(f.when(f.col(\"status\") == \"Aborted\", f.col(\"order_id\"))).alias(\"aborted_orders\"),\n",
    "         f.countDistinct(orders.user_id).alias(\"unique_users\"),\n",
    "         f.sum(\"total_amount\").alias(\"total_order_amount\"),\n",
    "         f.avg(\"total_amount\").alias(\"avg_order_amount\"),\n",
    "         f.sum(f.when(f.col(\"status\") != \"Aborted\", f.col(\"total_amount\"))).alias(\"total_revenue\"),\n",
    "         f.avg(\"delivery_period\").alias(\"avg_delivery_period\")) \\\n",
    "    .orderBy([\"order_month\", \"loyalty_status\"])"
   ]
  },
  {
   "cell_type": "code",
   "execution_count": 36,
   "id": "6d012caf-98aa-48b5-bcfc-7b55edc5e776",
   "metadata": {},
   "outputs": [
    {
     "name": "stdout",
     "output_type": "stream",
     "text": [
      "+-------------------+--------------+----------+-----------+----------------+--------------+--------------+------------+------------------+----------------+-------------+-------------------+\n",
      "|        order_month|loyalty_status|orders_cnt|paid_orders|completed_orders|pending_orders|aborted_orders|unique_users|total_order_amount|avg_order_amount|total_revenue|avg_delivery_period|\n",
      "+-------------------+--------------+----------+-----------+----------------+--------------+--------------+------------+------------------+----------------+-------------+-------------------+\n",
      "|2020-01-01 00:00:00|         Basic|         2|          0|               2|             0|             0|           2|             69.19|       34.595000|        69.19|                5.0|\n",
      "|2020-01-01 00:00:00|          Gold|         1|          0|               0|             1|             0|           1|             46.60|       46.600000|        46.60|                5.0|\n",
      "|2020-01-01 00:00:00|        Silver|         2|          1|               1|             0|             0|           2|             12.21|        6.105000|        12.21|                5.5|\n",
      "|2020-02-01 00:00:00|         Basic|         4|          0|               4|             0|             0|           4|             86.34|       21.585000|        86.34|               7.25|\n",
      "|2020-02-01 00:00:00|        Silver|         2|          2|               0|             0|             0|           2|             40.77|       20.385000|        40.77|                6.0|\n",
      "|2020-03-01 00:00:00|         Basic|         3|          0|               2|             1|             0|           3|             69.04|       23.013333|        69.04|  4.666666666666667|\n",
      "|2020-03-01 00:00:00|        Silver|         1|          0|               1|             0|             0|           1|             10.62|       10.620000|        10.62|                2.0|\n",
      "|2020-04-01 00:00:00|         Basic|         3|          3|               0|             0|             0|           3|             75.21|       25.070000|        75.21|  5.666666666666667|\n",
      "|2020-04-01 00:00:00|        Silver|         3|          1|               2|             0|             0|           3|             30.04|       10.013333|        30.04|                6.0|\n",
      "|2020-05-01 00:00:00|         Basic|         5|          1|               4|             0|             0|           5|             74.02|       14.804000|        74.02|                7.4|\n",
      "|2020-05-01 00:00:00|        Silver|         4|          1|               2|             1|             0|           4|             67.88|       16.970000|        67.88|                5.5|\n",
      "|2020-06-01 00:00:00|         Basic|         2|          0|               2|             0|             0|           2|             56.13|       28.065000|        56.13|                6.5|\n",
      "|2020-06-01 00:00:00|          Gold|         3|          0|               3|             0|             0|           3|             35.59|       11.863333|        35.59|                3.0|\n",
      "|2020-06-01 00:00:00|        Silver|         6|          1|               3|             1|             1|           6|            117.80|       19.633333|        79.65| 3.1666666666666665|\n",
      "|2020-07-01 00:00:00|         Basic|         5|          1|               3|             1|             0|           5|            114.16|       22.832000|       114.16|                6.0|\n",
      "|2020-07-01 00:00:00|      Platinum|         2|          0|               1|             1|             0|           2|              3.70|        1.850000|         3.70|                9.5|\n",
      "|2020-08-01 00:00:00|         Basic|         7|          2|               3|             0|             2|           7|            138.21|       19.744286|       104.86|  5.714285714285714|\n",
      "|2020-08-01 00:00:00|          Gold|         2|          1|               1|             0|             0|           2|             30.52|       15.260000|        30.52|                4.5|\n",
      "|2020-08-01 00:00:00|      Platinum|         2|          1|               1|             0|             0|           2|             25.58|       12.790000|        25.58|                5.5|\n",
      "|2020-08-01 00:00:00|        Silver|         2|          0|               2|             0|             0|           2|              8.38|        4.190000|         8.38|                9.5|\n",
      "+-------------------+--------------+----------+-----------+----------------+--------------+--------------+------------+------------------+----------------+-------------+-------------------+\n",
      "only showing top 20 rows\n",
      "\n"
     ]
    }
   ],
   "source": [
    "user_sales.show()"
   ]
  },
  {
   "cell_type": "code",
   "execution_count": null,
   "id": "a58ed12f-c1d0-45a3-9849-5e5e958e5ea7",
   "metadata": {},
   "outputs": [],
   "source": []
  },
  {
   "cell_type": "code",
   "execution_count": 61,
   "id": "3656aef5-d083-43c3-92c3-e1f8344123f0",
   "metadata": {},
   "outputs": [
    {
     "name": "stderr",
     "output_type": "stream",
     "text": [
      "                                                                                "
     ]
    }
   ],
   "source": [
    "user_sales.write \\\n",
    "    .format(\"jdbc\") \\\n",
    "    .mode(\"overwrite\") \\\n",
    "    .option(\"url\", \"jdbc:mysql://mysql:3306/mysql_db\") \\\n",
    "    .option(\"driver\", \"com.mysql.cj.jdbc.Driver\") \\\n",
    "    .option(\"dbtable\", \"user_sales\") \\\n",
    "    .option(\"user\", \"mysql_user\") \\\n",
    "    .option(\"password\", \"mysql_password\") \\\n",
    "    .save()"
   ]
  },
  {
   "cell_type": "code",
   "execution_count": null,
   "id": "c385fa8d-dd75-46a2-b320-e297824b2a8e",
   "metadata": {},
   "outputs": [],
   "source": []
  },
  {
   "cell_type": "code",
   "execution_count": null,
   "id": "fb9e4e47-a54b-4828-899b-ca05a450a78a",
   "metadata": {},
   "outputs": [],
   "source": []
  },
  {
   "cell_type": "code",
   "execution_count": null,
   "id": "9eee719a-4854-4b3a-b0c7-a0b9f780526d",
   "metadata": {},
   "outputs": [],
   "source": []
  },
  {
   "cell_type": "code",
   "execution_count": null,
   "id": "5b4c49c9-0f88-47a2-a3f9-535c914ff5c3",
   "metadata": {},
   "outputs": [],
   "source": []
  },
  {
   "cell_type": "code",
   "execution_count": 58,
   "id": "d5f9d3b4-b420-445e-a6de-f1e76d952333",
   "metadata": {},
   "outputs": [],
   "source": [
    "product_sales = orders \\\n",
    "    .join(order_details, orders.order_id == order_details.order_id, \"inner\") \\\n",
    "    .join(products, order_details.product_id == products.product_id, \"inner\") \\\n",
    "    .join(product_categories, products.category_id == product_categories.category_id, \"inner\") \\\n",
    "    .withColumn(\"order_month\", f.date_trunc(\"MM\", orders.order_date)) \\\n",
    "    .select([f.col(\"orders.order_id\").alias(\"order_id\"), \"order_month\", \"status\",\n",
    "             f.col(\"product_categories.name\").alias(\"product_category\"), f.col(\"products.name\").alias(\"product_name\"),\n",
    "             f.col(\"order_details.total_amount\").alias(\"total_amount\"), \"quantity\"]) \\\n",
    "    .groupBy([\"order_month\", \"product_category\", \"product_name\"]) \\\n",
    "    .agg(f.countDistinct(\"order_id\").alias(\"order_cnt\"),\n",
    "         f.sum(\"quantity\").alias(\"ordered_quantity\"),\n",
    "         f.sum(f.when(f.col(\"status\") == \"Aborted\", f.col(\"quantity\"))).alias(\"aborted_quantity\"),\n",
    "         f.sum(f.when(f.col(\"status\") == \"Paid\", f.col(\"quantity\"))).alias(\"paid_quantity\"),\n",
    "         f.sum(f.when(f.col(\"status\") == \"Pending\", f.col(\"quantity\"))).alias(\"pending_quantity\"),\n",
    "         f.sum(f.when(f.col(\"status\") == \"Completed\", f.col(\"quantity\"))).alias(\"completed_quantity\"),\n",
    "         f.sum(\"total_amount\").alias(\"total_amount\"),\n",
    "         f.sum(f.when(f.col(\"status\") != \"Aborted\", f.col(\"total_amount\"))).alias(\"total_revenue\"),\n",
    "        ) \\\n",
    "    .orderBy([\"order_month\", \"product_category\", \"product_name\"])"
   ]
  },
  {
   "cell_type": "code",
   "execution_count": 62,
   "id": "b3980aa4-243e-4c10-b88e-9500b3565623",
   "metadata": {},
   "outputs": [
    {
     "name": "stderr",
     "output_type": "stream",
     "text": [
      "                                                                                "
     ]
    },
    {
     "name": "stdout",
     "output_type": "stream",
     "text": [
      "+-------------------+--------------------+--------------------+---------+----------------+----------------+-------------+----------------+------------------+------------+-------------+\n",
      "|        order_month|    product_category|        product_name|order_cnt|ordered_quantity|aborted_quantity|paid_quantity|pending_quantity|completed_quantity|total_amount|total_revenue|\n",
      "+-------------------+--------------------+--------------------+---------+----------------+----------------+-------------+----------------+------------------+------------+-------------+\n",
      "|2020-01-01 00:00:00|      Action Figures| Licensed Rubber Car|        1|               1|            NULL|         NULL|            NULL|                 1|        1.61|         1.61|\n",
      "|2020-01-01 00:00:00|      Action Figures|  Refined Cotton Car|        1|               2|            NULL|         NULL|            NULL|                 2|       64.74|        64.74|\n",
      "|2020-01-01 00:00:00|  Food and Beverages|Practical Metal Soap|        1|               2|            NULL|            2|            NULL|              NULL|        7.82|         7.82|\n",
      "|2020-01-01 00:00:00|           Groceries|Luxurious Concret...|        1|               1|            NULL|            1|            NULL|              NULL|        1.51|         1.51|\n",
      "|2020-01-01 00:00:00|       Refrigerators|Incredible Rubber...|        1|               2|            NULL|         NULL|               2|              NULL|       41.62|        41.62|\n",
      "|2020-01-01 00:00:00|       Refrigerators| Rustic Wooden Shirt|        1|               1|            NULL|            1|            NULL|              NULL|        1.74|         1.74|\n",
      "|2020-01-01 00:00:00|   Skincare Products|Luxurious Cotton Car|        1|               2|            NULL|         NULL|               2|              NULL|        4.98|         4.98|\n",
      "|2020-01-01 00:00:00|      Toys and Games|Incredible Wooden...|        1|               1|            NULL|         NULL|            NULL|                 1|        1.14|         1.14|\n",
      "|2020-01-01 00:00:00|Vehicle Parts and...|Modern Concrete Ball|        1|               1|            NULL|         NULL|            NULL|                 1|        2.58|         2.58|\n",
      "|2020-01-01 00:00:00|Vehicle Parts and...|Modern Concrete Soap|        1|               1|            NULL|         NULL|            NULL|                 1|        0.26|         0.26|\n",
      "|2020-02-01 00:00:00|      Action Figures|Handcrafted Rubbe...|        1|               2|            NULL|         NULL|            NULL|                 2|        4.12|         4.12|\n",
      "|2020-02-01 00:00:00|      Action Figures|Incredible Rubber...|        1|               4|            NULL|         NULL|            NULL|                 4|       45.04|        45.04|\n",
      "|2020-02-01 00:00:00|      Action Figures|  Refined Cotton Car|        1|               1|            NULL|            1|            NULL|              NULL|       32.37|        32.37|\n",
      "|2020-02-01 00:00:00|     Books and Media|Practical Rubber ...|        1|               1|            NULL|         NULL|            NULL|                 1|        7.47|         7.47|\n",
      "|2020-02-01 00:00:00|   Fitness Equipment|Handcrafted Woode...|        1|               2|            NULL|         NULL|            NULL|                 2|        5.08|         5.08|\n",
      "|2020-02-01 00:00:00|  Food and Beverages| Licensed Metal Tuna|        1|               1|            NULL|         NULL|            NULL|                 1|        9.76|         9.76|\n",
      "|2020-02-01 00:00:00|  Food and Beverages|Modern Cotton Cheese|        1|               2|            NULL|         NULL|            NULL|                 2|        7.98|         7.98|\n",
      "|2020-02-01 00:00:00|           Groceries|Licensed Rubber Tuna|        1|               2|            NULL|            2|            NULL|              NULL|        1.94|         1.94|\n",
      "|2020-02-01 00:00:00|          Men's Wear|Incredible Concre...|        1|               2|            NULL|         NULL|            NULL|                 2|        1.56|         1.56|\n",
      "|2020-02-01 00:00:00|          Men's Wear|Licensed Cotton Soap|        1|               3|            NULL|            3|            NULL|              NULL|        2.46|         2.46|\n",
      "+-------------------+--------------------+--------------------+---------+----------------+----------------+-------------+----------------+------------------+------------+-------------+\n",
      "only showing top 20 rows\n",
      "\n"
     ]
    }
   ],
   "source": [
    "product_sales.show(20)"
   ]
  },
  {
   "cell_type": "code",
   "execution_count": 63,
   "id": "8f61e305-38fa-4bd8-8401-b654dee067d7",
   "metadata": {},
   "outputs": [
    {
     "name": "stderr",
     "output_type": "stream",
     "text": [
      "                                                                                "
     ]
    }
   ],
   "source": [
    "product_sales.write \\\n",
    "    .format(\"jdbc\") \\\n",
    "    .mode(\"overwrite\") \\\n",
    "    .option(\"url\", \"jdbc:mysql://mysql:3306/mysql_db\") \\\n",
    "    .option(\"driver\", \"com.mysql.cj.jdbc.Driver\") \\\n",
    "    .option(\"dbtable\", \"product_sales\") \\\n",
    "    .option(\"user\", \"mysql_user\") \\\n",
    "    .option(\"password\", \"mysql_password\") \\\n",
    "    .save()"
   ]
  },
  {
   "cell_type": "code",
   "execution_count": null,
   "id": "6f96b2a3-af31-4d71-9523-d294385108f3",
   "metadata": {},
   "outputs": [],
   "source": []
  }
 ],
 "metadata": {
  "kernelspec": {
   "display_name": "Python 3 (ipykernel)",
   "language": "python",
   "name": "python3"
  },
  "language_info": {
   "codemirror_mode": {
    "name": "ipython",
    "version": 3
   },
   "file_extension": ".py",
   "mimetype": "text/x-python",
   "name": "python",
   "nbconvert_exporter": "python",
   "pygments_lexer": "ipython3",
   "version": "3.12.8"
  }
 },
 "nbformat": 4,
 "nbformat_minor": 5
}
